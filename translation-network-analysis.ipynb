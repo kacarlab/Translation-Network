{
 "cells": [
  {
   "attachments": {},
   "cell_type": "markdown",
   "metadata": {},
   "source": [
    "# The modular biochemical reaction network structure of cellular translation\n",
    "\n",
    "## Abstract\n",
    "\n",
    "Translation is an essential attribute of all living cells. At the heart of cellular operation, it is a chemical information decoding process that begins with an input string of nucleotides and ends with the synthesis of a specific output string of peptides. The translation process is interconnected with gene expression, physiological regulation, transcription, and responses to signaling molecules, among other cellular functions. Foundational efforts have uncovered a wealth of knowledge about the mechanistic functions of and many interactions between components of translation, but the broader biochemical connections between translation, metabolism and polymer biosynthesis that enable translation to occur have not been comprehensively mapped. Here we present a multilayer graph of biochemical reactions describing the translation, polymer biosynthesis and metabolism networks of an Escherichia coli cell. Intriguingly, the compounds that compose these three layers are distinctly aggregated into three modes regardless of their layer categorization. Multimodal mass distributions are well-known in ecosystems, but this is the first such distribution reported at the biochemical level. The connectivity distributions of the translation and metabolic networks are each likely to be heavy-tailed, but the polymer biosynthesis network is not. A multimodal mass-connectivity distribution indicates that the translation and metabolism networks are each distinct, adaptive biochemical modules, and that the gaps between the modes reflect evolved responses to the functional use of metabolite, polypeptide and polynucleotide compounds. The chemical reaction network of cellular translation opens new avenues for exploring complex adaptive phenomena such as percolation and phase changes in biochemical contexts. \n",
    "\n"
   ]
  },
  {
   "cell_type": "code",
   "execution_count": null,
   "metadata": {},
   "outputs": [],
   "source": [
    "import pandas as pd\n",
    "import matplotlib.pyplot as plt\n",
    "import networkx as nx\n",
    "import numpy as np\n",
    "import powerlaw as plw\n",
    "import seaborn as sns\n",
    "from Bio.SeqUtils import molecular_weight\n",
    "from rdkit import Chem as chem\n",
    "from rdkit.Chem.Descriptors import ExactMolWt\n",
    "import json\n",
    "import re\n",
    "\n",
    "sns.set_style('darkgrid')\n",
    "\n",
    "palette = dict(metabolite='#102ECC', protein='#596399', assembly='#64f195', RNA='#FFA86E', ion='#CC4010')\n",
    "compound_palette = dict(metabolite='#102ECC', protein='#596399', assembly='#64f195', RNA='#FFA86E', ion='#CC4010')\n",
    "palette_domain = dict(translation='#FF9E8C', metabolism='#298ACC', biosynthesis='#32A898')"
   ]
  },
  {
   "attachments": {},
   "cell_type": "markdown",
   "metadata": {},
   "source": [
    "## Flux between networks (Fig 3. B)\n",
    "\n",
    "The following block retrieves how many compounds link each of the layers of the full network. We represented the numerical values of this analysis in Figure 3B."
   ]
  },
  {
   "cell_type": "code",
   "execution_count": null,
   "metadata": {},
   "outputs": [],
   "source": [
    "TMNI = nx.read_gml('networks/full-network.gml')\n",
    "\n",
    "flux_dictionary = dict(\n",
    "    metabolism = {\"metabolism\":0, \"biosynthesis\":0, \"translation\":0},\n",
    "    biosynthesis = {\"metabolism\":0, \"biosynthesis\":0, \"translation\":0},\n",
    "    translation = {\"metabolism\":0, \"biosynthesis\":0, \"translation\":0},\n",
    ")\n",
    "\n",
    "\n",
    "for node, node_data in TMNI.nodes(data=True):\n",
    "    if node_data['type'] == 'chemical_entity':\n",
    "        production_levels = []\n",
    "        consumption_levels = []\n",
    "        for reaction in TMNI.predecessors(node):\n",
    "            i = TMNI.nodes()[reaction]['domain']\n",
    "            if i not in production_levels: production_levels.append(i)\n",
    "        for reaction in TMNI.successors(node):\n",
    "            i = TMNI.nodes()[reaction]['domain']\n",
    "            if i not in consumption_levels: consumption_levels.append(i)\n",
    "        added = 0\n",
    "\n",
    "        if len(production_levels) > 0 and len(consumption_levels) > 0:\n",
    "            for p in production_levels:\n",
    "                for c in consumption_levels:\n",
    "                    flux_dictionary[p][c] += 1\n",
    "        elif len(consumption_levels) > 0:\n",
    "            for c in consumption_levels:\n",
    "                flux_dictionary[c][c] += 1\n",
    "        elif len(production_levels) > 0:\n",
    "            for p in production_levels:\n",
    "                flux_dictionary[p][p] += 1\n",
    "        else:\n",
    "            print(node)\n",
    "\n",
    "np.set_printoptions(formatter={'float_kind':'{:6.3f}'.format})\n",
    "pd.DataFrame.from_records(flux_dictionary)\n",
    "        "
   ]
  },
  {
   "attachments": {},
   "cell_type": "markdown",
   "metadata": {},
   "source": [
    "## Statistical Network Properties: degree and mass distributions (Fig 5 A, B, C and D)\n",
    "\n",
    "The following blocks provide the analysis of the two main attributes under study: the mass and the connectivity. For the analysis of the degree distribution, we extract the degree as the number of times that each compound interacts with reactions from a specific layer (or any of them, in the case of the full-network). For the mass, we rely in the mass that we have annotated for each of the compounds during the construction of the network."
   ]
  },
  {
   "cell_type": "code",
   "execution_count": null,
   "metadata": {},
   "outputs": [],
   "source": [
    "def extract_connectivity_values(G: nx.DiGraph, reaction_domain=None):\n",
    "    out = []\n",
    "    for node, node_data in G.nodes(data=True):\n",
    "        if node_data['type'] == 'chemical_entity':\n",
    "            \n",
    "            degree_in = 0\n",
    "            degree_out = 0\n",
    "            for reaction in G.predecessors(node):\n",
    "                domain = G.nodes()[reaction]['domain']\n",
    "                if domain == reaction_domain or reaction_domain is None:\n",
    "                    degree_in += 1\n",
    "            for reaction in G.successors(node):\n",
    "                domain = G.nodes()[reaction]['domain']\n",
    "                if domain == reaction_domain or reaction_domain is None:\n",
    "                    degree_out += 1\n",
    "\n",
    "            if degree_in == 0 and degree_out == 0:\n",
    "                continue\n",
    "            else:\n",
    "                \n",
    "                try:\n",
    "                    compound_type = node_data['compound_type']\n",
    "                except KeyError:\n",
    "                    compound_type = None\n",
    "\n",
    "                try:\n",
    "                    mass = float(node_data['mass'])\n",
    "                except KeyError:\n",
    "                    mass = None\n",
    "\n",
    "                out.append(dict(\n",
    "                    label=node,\n",
    "                    degree_in = degree_in,\n",
    "                    degree_out = degree_out,\n",
    "                    degree_total = degree_in + degree_out,\n",
    "                    weight = mass,\n",
    "                    compound_type=compound_type,\n",
    "                    domain=reaction_domain\n",
    "                ))\n",
    "\n",
    "    return pd.DataFrame.from_records(out)"
   ]
  },
  {
   "cell_type": "code",
   "execution_count": null,
   "metadata": {},
   "outputs": [],
   "source": [
    "TMNI = nx.read_gml('networks/full-network.no-connections.gml')\n",
    "translation_network_attributes = extract_connectivity_values(TMNI, reaction_domain='translation')\n",
    "metabolism_network_attributes = extract_connectivity_values(TMNI, reaction_domain='metabolism')\n",
    "biosynthesis_network_attributes = extract_connectivity_values(TMNI, reaction_domain='biosynthesis')\n",
    "full_network_attributes = extract_connectivity_values(TMNI, reaction_domain=None)\n",
    "full_network_attributes['domain'] = 'all'\n",
    "network_attributes = pd.concat([translation_network_attributes, metabolism_network_attributes, biosynthesis_network_attributes, full_network_attributes])"
   ]
  },
  {
   "cell_type": "code",
   "execution_count": null,
   "metadata": {},
   "outputs": [],
   "source": [
    "pd.DataFrame.from_records([dict(key=key, **data) for key, data in TMNI.nodes(data=True) if data['type'] == 'chemical_reaction'])"
   ]
  },
  {
   "cell_type": "markdown",
   "metadata": {},
   "source": [
    "**Important note**: For some reason, the Powerlaw library fails to generate the right x-min values for the biosynthesis and the full network, generating very bad fits. We've manually tried different values to find a better fit to the data."
   ]
  },
  {
   "cell_type": "code",
   "execution_count": null,
   "metadata": {},
   "outputs": [],
   "source": [
    "discrete_fit = network_attributes.groupby('domain', as_index=False).apply(lambda x: plw.Fit(x.degree_total.values, discrete=True))\n",
    "discrete_fit.columns = ['domain', 'discrete_fit']\n",
    "continuous_fit = network_attributes.groupby('domain', as_index=False).apply(lambda x: plw.Fit(x.degree_total.values, discrete=False))\n",
    "\n",
    "continuous_fit.columns = ['domain', 'continuous_fit']\n",
    "fits = pd.merge(discrete_fit, continuous_fit, on='domain').set_index('domain')\n",
    "\n",
    "fits.loc['all', 'continuous_fit'] = plw.Fit(network_attributes.query('domain == \"all\"').degree_total.values, discrete=False, xmin=3)\n",
    "fits.loc['biosynthesis', 'continuous_fit'] = plw.Fit(network_attributes.query('domain == \"biosynthesis\"').degree_total.values, discrete=False, xmin=3)\n",
    "\n",
    "fits['continuous_alpha'] = fits['continuous_fit'].apply(lambda x: x.alpha)\n",
    "fits['discrete_alpha'] = fits['discrete_fit'].apply(lambda x: x.alpha)\n",
    "fits['continuous_xmin'] = fits['continuous_fit'].apply(lambda x: x.xmin)\n",
    "fits['discrete_xmin'] = fits['discrete_fit'].apply(lambda x: x.xmin)\n",
    "\n",
    "fits['discrete_p_val_exp_powerlaw'] = fits['discrete_fit'].apply(lambda x: x.loglikelihood_ratio('exponential', 'power_law')[1])\n",
    "fits['continuous_p_val_exp_powerlaw'] = fits['continuous_fit'].apply(lambda x: x.loglikelihood_ratio('exponential', 'power_law')[1])\n",
    "fits['discrete_R_val_exp_powerlaw'] = fits['discrete_fit'].apply(lambda x: x.loglikelihood_ratio('exponential', 'power_law')[0])\n",
    "fits['continuous_R_val_exp_powerlaw'] = fits['continuous_fit'].apply(lambda x: x.loglikelihood_ratio('exponential', 'power_law')[0])\n",
    "\n",
    "# fits = fits.set_index('domain')\n",
    "fits[['continuous_alpha', 'discrete_alpha', 'continuous_xmin', 'discrete_xmin', 'discrete_p_val_exp_powerlaw', 'continuous_p_val_exp_powerlaw']]\n"
   ]
  },
  {
   "attachments": {},
   "cell_type": "markdown",
   "metadata": {},
   "source": [
    "**Table 1**: Statistical fits of each of the degree distributions. The alpha value corresponds to the exponent of the fitted power-law."
   ]
  },
  {
   "cell_type": "code",
   "execution_count": null,
   "metadata": {},
   "outputs": [],
   "source": [
    "fig, ax = plt.subplots(3, 1, sharey=True, sharex=True)\n",
    "fig.set_size_inches(3, 4)\n",
    "\n",
    "\n",
    "fits.loc['translation'].continuous_fit.plot_ccdf(color='#FF9E8C', label='empirical', ax=ax[0], marker='.', linewidth=1)\n",
    "fits.loc['translation'].continuous_fit.power_law.plot_ccdf(color='black', label='power-law', ax=ax[0])\n",
    "fits.loc['translation'].continuous_fit.exponential.plot_ccdf(color='black', linestyle='--', label='exponential', ax=ax[0])\n",
    "fits.loc['biosynthesis'].continuous_fit.plot_ccdf(color='#32A898', label='empirical', ax=ax[1], marker='.', linewidth=1)\n",
    "# fits.loc['biosynthesis'].continuous_fit.power_law.plot_ccdf(color='black', label='power-law', ax=ax[1])\n",
    "# fits.loc['biosynthesis'].continuous_fit.exponential.plot_ccdf(color='black', linestyle='--', label='exponential', ax=ax[1])\n",
    "fits.loc['metabolism'].continuous_fit.plot_ccdf(color='#298ACC', label='empirical', ax=ax[2], marker='.', linewidth=1)\n",
    "fits.loc['metabolism'].continuous_fit.power_law.plot_ccdf(color='black', label='power-law', ax=ax[2])\n",
    "fits.loc['metabolism'].continuous_fit.exponential.plot_ccdf(color='black', linestyle='--', label='exponential', ax=ax[2])\n",
    "\n",
    "ax[0].set_ylim(10**-4, None)\n",
    "ax[0].set_xticks([1, 10, 100, 1000])\n",
    "ax[1].set_ylabel('CCDF(k)')\n",
    "ax[2].set_xlabel('degree (k)')\n",
    "ax[2].set_xlabel('degree (k)')\n",
    "fig.tight_layout()\n",
    "# plt.savefig('figures/power_law.all.svg', dpi=300)\n",
    "# plt.savefig('figures/power_law.all_continuous.svg', dpi=300)\n"
   ]
  },
  {
   "cell_type": "code",
   "execution_count": null,
   "metadata": {},
   "outputs": [],
   "source": [
    "fig, ax = plt.subplots(3, 1, sharey=True, sharex=True)\n",
    "fig.set_size_inches(3, 4)\n",
    "\n",
    "\n",
    "fits.loc['translation'].discrete_fit.plot_ccdf(color='#FF9E8C', label='empirical', ax=ax[0], marker='.', linewidth=1)\n",
    "fits.loc['translation'].discrete_fit.power_law.plot_ccdf(color='black', label='power-law', ax=ax[0])\n",
    "fits.loc['translation'].discrete_fit.exponential.plot_ccdf(color='black', linestyle='--', label='exponential', ax=ax[0])\n",
    "fits.loc['biosynthesis'].discrete_fit.plot_ccdf(color='#32A898', label='empirical', ax=ax[1], marker='.', linewidth=1)\n",
    "fits.loc['biosynthesis'].discrete_fit.power_law.plot_ccdf(color='black', label='power-law', ax=ax[1])\n",
    "fits.loc['biosynthesis'].discrete_fit.exponential.plot_ccdf(color='black', linestyle='--', label='exponential', ax=ax[1])\n",
    "fits.loc['metabolism'].discrete_fit.plot_ccdf(color='#298ACC', label='empirical', ax=ax[2], marker='.', linewidth=1)\n",
    "fits.loc['metabolism'].discrete_fit.power_law.plot_ccdf(color='black', label='power-law', ax=ax[2])\n",
    "fits.loc['metabolism'].discrete_fit.exponential.plot_ccdf(color='black', linestyle='--', label='exponential', ax=ax[2])\n",
    "\n",
    "ax[0].set_ylim(10**-4, None)\n",
    "ax[0].set_xticks([1, 10, 100, 1000])\n",
    "ax[1].set_ylabel('CCDF(k)')\n",
    "ax[2].set_xlabel('degree (k)')\n",
    "ax[2].set_xlabel('degree (k)')\n",
    "fig.tight_layout()\n",
    "# plt.savefig('figures/power_law.all.svg', dpi=300)\n",
    "# plt.savefig('figures/power_law.all_discrete.svg', dpi=300)\n"
   ]
  },
  {
   "cell_type": "code",
   "execution_count": null,
   "metadata": {},
   "outputs": [],
   "source": [
    "fig, ax = plt.subplots(1)\n",
    "fig.set_size_inches(4, 4)\n",
    "fits.loc['all'].continuous_fit.plot_ccdf(color='#6B8799', label='empirical', ax=ax, marker='o', linewidth=3)\n",
    "fits.loc['all'].continuous_fit.power_law.plot_ccdf(color='black', label='power-law', ax=ax)\n",
    "fits.loc['all'].continuous_fit.exponential.plot_ccdf(color='black', linestyle='--', label='exponential', ax=ax)\n",
    "ax.set_ylim(10**-4, None)\n",
    "ax.set_xlabel('degree - k')\n",
    "ax.set_ylabel('ccdf (k)')\n",
    "# plt.savefig('figures/power_law.full_continuous.svg', dpi=300)\n",
    "plt.tight_layout()\n",
    "plt.show()"
   ]
  },
  {
   "cell_type": "code",
   "execution_count": null,
   "metadata": {},
   "outputs": [],
   "source": [
    "fig, ax = plt.subplots(1)\n",
    "fig.set_size_inches(4, 4)\n",
    "fits.loc['all'].discrete_fit.plot_ccdf(color='#6B8799', label='empirical', ax=ax, marker='o', linewidth=3)\n",
    "fits.loc['all'].discrete_fit.power_law.plot_ccdf(color='black', label='power-law', ax=ax)\n",
    "fits.loc['all'].discrete_fit.exponential.plot_ccdf(color='black', linestyle='--', label='exponential', ax=ax)\n",
    "ax.set_ylim(10**-4, None)\n",
    "ax.set_xlabel('degree - k')\n",
    "ax.set_ylabel('ccdf (k)')\n",
    "# plt.savefig('figures/power_law.full_discrete.svg', dpi=300)\n",
    "plt.tight_layout()\n",
    "plt.show()"
   ]
  },
  {
   "attachments": {},
   "cell_type": "markdown",
   "metadata": {},
   "source": [
    "**Figure 5.A** Degree distribution per layers. Y-axis represents the cumulative complementary distribution function, and the X-axis the of each compounds degree. The different plots divide the network by its layers."
   ]
  },
  {
   "attachments": {},
   "cell_type": "markdown",
   "metadata": {},
   "source": [
    "**Figure S1**. Degree distribution of the full-network, using the same layout as in **Figure 5.A**"
   ]
  },
  {
   "attachments": {},
   "cell_type": "markdown",
   "metadata": {},
   "source": [
    "### Mass-degree distribution\n"
   ]
  },
  {
   "cell_type": "markdown",
   "metadata": {},
   "source": [
    "**Important**. Although we can read the data from the network, there are some labels that require manual modification. Therefore, we just read it from a file."
   ]
  },
  {
   "cell_type": "code",
   "execution_count": null,
   "metadata": {},
   "outputs": [],
   "source": [
    "full_network_attributes = pd.read_csv('data/full-networks-components.csv', sep=';', index_col='index').sort_index()\n",
    "full_network_attributes['log_weight'] = np.log10(full_network_attributes['weight'])\n",
    "full_network_attributes['log_degree'] = np.log10(full_network_attributes['degree_total'])\n",
    "network_attributes_by_domain = pd.concat([translation_network_attributes, metabolism_network_attributes, biosynthesis_network_attributes]).reset_index()\n",
    "network_attributes_by_domain['logweight'] = np.log10(network_attributes_by_domain['weight'])"
   ]
  },
  {
   "cell_type": "code",
   "execution_count": null,
   "metadata": {},
   "outputs": [],
   "source": [
    "# sns.set_palette('Set1')\n",
    "\n",
    "fig, ax = plt.subplots(2, 2, sharex=True, sharey=False)\n",
    "fig.set_size_inches(8, 5)\n",
    "bins = np.arange(0, 8, 0.25)\n",
    "# sns.kdeplot(data=full_network_attributes.query('compound_type != \"placeholder\"'), \n",
    "# hue='compound_type', x='log_weight', y='log_degree', palette=palette, alpha=0.85, ax=ax, levels=3, bw_adjust=1.25)\n",
    "g = sns.scatterplot(\n",
    "    data=full_network_attributes.query('compound_type != \"placeholder\"'), \n",
    "    hue='compound_type', x='log_weight', y='degree_total', palette=palette, ax=ax[0, 0],marker='.',\n",
    "    linewidth=0\n",
    "    \n",
    ")\n",
    "g = sns.histplot(\n",
    "    x='log_weight', data=full_network_attributes.query('compound_type != \"placeholder\"'), \n",
    "    hue='compound_type', ax=ax[1, 0], palette=palette, bins=bins\n",
    ")\n",
    "\n",
    "g = sns.scatterplot(\n",
    "    data=network_attributes_by_domain.query('compound_type != \"placeholder\"'), \n",
    "    hue='domain', x='logweight', y='degree_total', ax=ax[0,1], palette=palette_domain, marker='.',\n",
    "    linewidth=0\n",
    ")\n",
    "g = sns.histplot(\n",
    "    x='logweight', data=network_attributes_by_domain.query('compound_type != \"placeholder\"'), \n",
    "    hue='domain', ax=ax[1, 1], palette=palette_domain, bins=bins\n",
    ")\n",
    "ax[0, 0].set_yscale('log')\n",
    "ax[0, 1].set_yscale('log')\n",
    "ax[0, 0].set_ylabel('Degree')\n",
    "ax[0, 1].set_ylabel('')\n",
    "ax[1, 1].set_ylabel('')\n",
    "ax[1, 1].set_xlabel('Weight (Da)')\n",
    "ax[1, 0].set_xlabel('Weight (Da)')\n",
    "ax[0, 1].set_xticklabels(['', '$10^{0}$', '$10^{2}$', '$10^{4}$','$10^{6}$'])\n",
    "ax[1, 1].set_xticklabels(['', '$10^{0}$', '$10^{2}$', '$10^{4}$','$10^{6}$'])\n",
    "ax[1, 0].set_ylim(1, 800)\n",
    "ax[1, 1].set_ylim(1, 800)\n",
    "# ax[0].set_yscale('log')\n",
    "plt.tight_layout()\n",
    "# plt.savefig('./figures/fig-mass-degree.svg')\n"
   ]
  },
  {
   "attachments": {},
   "cell_type": "markdown",
   "metadata": {},
   "source": [
    "## Network Embeddings "
   ]
  },
  {
   "cell_type": "code",
   "execution_count": null,
   "metadata": {},
   "outputs": [],
   "source": [
    "from torch_geometric.utils import from_networkx\n",
    "from torch_geometric.nn import Node2Vec\n",
    "from sklearn.manifold import TSNE\n",
    "from sklearn.cluster import KMeans\n",
    "import torch"
   ]
  },
  {
   "cell_type": "code",
   "execution_count": null,
   "metadata": {},
   "outputs": [],
   "source": [
    "TMN = nx.read_gml('networks/full-network.gml')\n",
    "TMN_copy = TMN.copy()"
   ]
  },
  {
   "cell_type": "code",
   "execution_count": null,
   "metadata": {},
   "outputs": [],
   "source": [
    "# Include biosynthesis\n",
    "\n",
    "type_dict = dict(\n",
    "    chemical_entity=[1, 0],\n",
    "    chemical_reaction=[0, 1]\n",
    ")\n",
    "domain_dict = dict(\n",
    "    metabolism = 1,\n",
    "    translation = 2,\n",
    "    biosynthesis = 3\n",
    ")\n",
    "\n",
    "def empty_node(x):\n",
    "    x['x'] = type_dict[x['type']]\n",
    "    try:\n",
    "        x['y'] = domain_dict[x['domain']]\n",
    "    except KeyError:\n",
    "        x['y'] = 0\n",
    "\n",
    "    keys = list(x.keys())\n",
    "    for t in keys:\n",
    "        if t not in ['x', 'y']:\n",
    "            del x[t]\n",
    "\n",
    "\n",
    "for node, node_data in TMN.nodes(data=True): empty_node(node_data)\n",
    "\n",
    "for _, _, edge_data in TMN.edges(data=True):\n",
    "    edge_data.clear()\n",
    "\n",
    "data = from_networkx(TMN)\n",
    "data.train_mask = torch.gt(torch.rand(len(data.x)), 0.75).to(torch.bool)\n",
    "data.test_mask = (~ data.train_mask).to(torch.bool)\n",
    "# data.y = torch.tensor([x['type'] for _, x in TMN.nodes(data=True)], dtype=torch.int32)"
   ]
  },
  {
   "cell_type": "code",
   "execution_count": null,
   "metadata": {},
   "outputs": [],
   "source": [
    "# CHANGE TO CPU IF YOU DON'T HAVE A GPU\n",
    "device = 'cuda:0'\n",
    "model = Node2Vec(\n",
    "    data.edge_index, embedding_dim=128, walk_length=20,\n",
    "    context_size=10, walks_per_node=10,\n",
    "    num_negative_samples=5, p=1, q=0.5, sparse=True\n",
    ").to(device)\n",
    "\n",
    "loader = model.loader(batch_size=128, shuffle=True, num_workers=4)\n",
    "optimizer = torch.optim.SparseAdam(list(model.parameters()), lr=0.01)\n"
   ]
  },
  {
   "cell_type": "code",
   "execution_count": null,
   "metadata": {},
   "outputs": [],
   "source": [
    "def train():\n",
    "    model.train()\n",
    "    total_loss = 0\n",
    "    for pos_rw, neg_rw in loader:\n",
    "        optimizer.zero_grad()\n",
    "        loss = model.loss(pos_rw.to(device), neg_rw.to(device))\n",
    "        loss.backward()\n",
    "        optimizer.step()\n",
    "        total_loss += loss.item()\n",
    "    return total_loss / len(loader)\n",
    "\n",
    "@torch.no_grad()\n",
    "def test():\n",
    "    model.eval()\n",
    "    z = model()\n",
    "    acc = model.test(z[data.train_mask], data.y[data.train_mask],\n",
    "                        z[data.test_mask], data.y[data.test_mask],\n",
    "                        max_iter=150)\n",
    "    return acc\n",
    "\n",
    "for epoch in range(1, 101):\n",
    "    loss = train()\n",
    "    acc = test()\n",
    "    print(f'Epoch: {epoch:02d}, Loss: {loss:.4f}, Acc: {acc:.4f}')"
   ]
  },
  {
   "cell_type": "code",
   "execution_count": null,
   "metadata": {},
   "outputs": [],
   "source": [
    "c = [node_data['y'] for _, node_data in TMN.nodes(data=True)]\n",
    "z = model(torch.arange(data.num_nodes, device=device))\n",
    "z = TSNE(n_components=2).fit_transform(z.detach().cpu().numpy())\n",
    "# km = KMeans(n_clusters=16).fit(z)\n",
    "# km.labels_"
   ]
  },
  {
   "cell_type": "code",
   "execution_count": null,
   "metadata": {},
   "outputs": [],
   "source": [
    "c = np.array(c)\n",
    "fig, ax = plt.subplots(1)\n",
    "fig.set_size_inches(7, 7)\n",
    "ax.set_aspect('equal')\n",
    "ax.scatter(z[c==1, 0], z[c==1,1], c='#4DFFE6',  alpha=0.5, lw=0.25, edgecolors='black')\n",
    "ax.scatter(z[c==2, 0], z[c==2,1], c='#FF9E8C',  alpha=0.5, lw=0.25, edgecolors='black')\n",
    "ax.scatter(z[c==0, 0], z[c==0,1], c='gray',  alpha=0.5, lw=0.25, edgecolors='black')\n",
    "ax.scatter(z[c==3, 0], z[c==3,1], c='#298ACC',  alpha=0.5, lw=0.25, edgecolors='black')\n",
    "ax.set_xlabel('t-SNE (first component)')\n",
    "ax.set_ylabel('t-SNE (second component)')\n",
    "plt.savefig('figures/fig002.node2vec-tsne.svg', dpi=300)\n",
    "plt.show()"
   ]
  },
  {
   "cell_type": "code",
   "execution_count": null,
   "metadata": {},
   "outputs": [],
   "source": [
    "for i, (_, node_data) in enumerate(TMN_copy.nodes(data=True)):\n",
    "    \n",
    "    node_data['x'] = float(z[i, 0])\n",
    "    node_data['y'] = float(z[i, 1])\n",
    "\n",
    "nx.write_gml(TMN_copy, 'networks/full-network.node2vec.gml') "
   ]
  },
  {
   "attachments": {},
   "cell_type": "markdown",
   "metadata": {},
   "source": [
    "## Network clustering\n",
    "\n",
    "The following blocks prunes a metabolic-translation network to generate the network depicted in the Figure 4."
   ]
  },
  {
   "cell_type": "code",
   "execution_count": null,
   "metadata": {},
   "outputs": [],
   "source": [
    "MN = nx.read_gml('networks/metabolism.gml')\n",
    "TN = nx.read_gml('networks/translation.gml')"
   ]
  },
  {
   "cell_type": "code",
   "execution_count": null,
   "metadata": {},
   "outputs": [],
   "source": [
    "def group_bipartite(G, map):\n",
    "    H = nx.DiGraph()\n",
    "    for node, node_data in filter(lambda x: x[0] in map.keys(), G.nodes(data=True)):\n",
    "        m = map[node]\n",
    "        try:\n",
    "            node_data = H.nodes[m]\n",
    "        except KeyError:\n",
    "            H.add_node(m, grouped=True, size=0, domain=node_data['domain']) #HARDCODED\n",
    "            node_data = H.nodes[m]\n",
    "        node_data = H.nodes()[m]\n",
    "        node_data['size'] += 1\n",
    "\n",
    "    for node, node_data in filter(lambda x: x[0] not in map.keys(), G.nodes(data=True)):\n",
    "        H.add_node(node, grouped=False, **node_data)\n",
    "\n",
    "    for start_node, end_node, _ in G.edges(data=True):\n",
    "\n",
    "        try:\n",
    "            _ = H.nodes[start_node]\n",
    "        except KeyError:\n",
    "            start_node = map[start_node]\n",
    "\n",
    "        try:\n",
    "            _ = H.nodes[end_node]\n",
    "        except KeyError:\n",
    "            end_node = map[end_node]\n",
    "\n",
    "        try:\n",
    "            edge_data = H.edges[start_node, end_node]\n",
    "        except KeyError:\n",
    "            H.add_edge(start_node, end_node, weight=0)\n",
    "            edge_data = H.edges[start_node, end_node]\n",
    "        edge_data['weight'] += 1\n",
    "    H.remove_edges_from(nx.selfloop_edges(H))\n",
    "    return H\n",
    "\n",
    "\n",
    "def cluster_in(G, map):\n",
    "    H = nx.DiGraph()\n",
    "    map_values = list(map.values())\n",
    "    for node, node_data in filter(lambda x: x[0] in map_values, G.nodes(data=True)):\n",
    "        H.add_node(node, **node_data)\n",
    "\n",
    "    for node, node_data in filter(lambda x: x[0] not in map_values, G.nodes(data=True)):\n",
    "        interacts_with = list(set(list(G.pred[node]) + list(G.succ[node])))\n",
    "        print(interacts_with)\n",
    "        if len(interacts_with) == 1:\n",
    "            if interacts_with in map_values:\n",
    "                H[map[interacts_with]]['size'] += 1\n",
    "        else:\n",
    "            H.add_node(node, **node_data)\n",
    "\n",
    "\n",
    "    for start_node, end_node, edge_data in G.edges(data=True):\n",
    "\n",
    "        try:\n",
    "            H.nodes[start_node]\n",
    "            H.nodes[end_node]\n",
    "        except KeyError:\n",
    "            continue\n",
    "        \n",
    "        H.add_edge(start_node, end_node, **edge_data)\n",
    "    \n",
    "    return H\n",
    "    "
   ]
  },
  {
   "cell_type": "code",
   "execution_count": null,
   "metadata": {},
   "outputs": [],
   "source": [
    "module_map = dict()\n",
    "domain_map = dict()\n",
    "MTN = nx.compose(MN, TN)\n",
    "\n",
    "for node, node_data in filter(lambda x: x[1]['type'] == \"chemical_reaction\", MTN.nodes(data=True)):\n",
    "    try:\n",
    "        module_map[node] = node_data['module']\n",
    "    except KeyError:\n",
    "        continue\n",
    "    domain_map[node] =  node_data['domain']"
   ]
  },
  {
   "cell_type": "code",
   "execution_count": null,
   "metadata": {},
   "outputs": [],
   "source": [
    "MTN_CG = group_bipartite(MTN, module_map)\n",
    "MTN_CG = cluster_in(MTN_CG, module_map)"
   ]
  },
  {
   "cell_type": "code",
   "execution_count": null,
   "metadata": {},
   "outputs": [],
   "source": [
    "nx.write_gml(MTN_CG, 'networks/coarse-grained-full-network.gml')"
   ]
  }
 ],
 "metadata": {
  "kernelspec": {
   "display_name": "tn2022",
   "language": "python",
   "name": "python3"
  },
  "language_info": {
   "codemirror_mode": {
    "name": "ipython",
    "version": 3
   },
   "file_extension": ".py",
   "mimetype": "text/x-python",
   "name": "python",
   "nbconvert_exporter": "python",
   "pygments_lexer": "ipython3",
   "version": "3.11.0"
  },
  "orig_nbformat": 4
 },
 "nbformat": 4,
 "nbformat_minor": 2
}
